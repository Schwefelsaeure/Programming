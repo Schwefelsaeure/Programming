{
 "cells": [
  {
   "cell_type": "markdown",
   "metadata": {},
   "source": [
    "# Mesh Generation in Numpy Pt. 1 - Basics"
   ]
  },
  {
   "cell_type": "code",
   "execution_count": 3,
   "metadata": {},
   "outputs": [
    {
     "name": "stdout",
     "output_type": "stream",
     "text": [
      "linspace()\n",
      "x: [0.  0.5 1. ]\n",
      "y: [2. 3.]\n",
      "meshgrid()\n",
      "xx: [[0.  0.5 1. ]\n",
      " [0.  0.5 1. ]]\n",
      "yy: [[2. 2. 2.]\n",
      " [3. 3. 3.]]\n",
      "ravel()\n",
      "xx.ravel(): [0.  0.5 1.  0.  0.5 1. ]\n",
      "yy.ravel(): [2. 2. 2. 3. 3. 3.]\n"
     ]
    }
   ],
   "source": [
    "import numpy as np\n",
    "\n",
    "# linspace() produces a sample resolution in each direction\n",
    "x = np.linspace(0, 1, 3)\n",
    "y = np.linspace(2, 3, 2)\n",
    "print(\"linspace()\")\n",
    "print(\"x: {}\".format(x))\n",
    "print(\"y: {}\".format(y))\n",
    "\n",
    "# meshgrid() produces\n",
    "# - for each y-value a sampling in x-direction -> xx is a len(y) x dim(x).cols vector\n",
    "# - for each x-value a sampling in y-direction -> yy is a len(y) x dim(x).cols vector\n",
    "xx, yy = np.meshgrid(x, y)\n",
    "print(\"meshgrid()\")\n",
    "print(\"xx: {}\".format(xx))\n",
    "print(\"yy: {}\".format(yy))\n",
    "\n",
    "grid = np.c_[xx.ravel(), yy.ravel()]\n",
    "print(\"ravel()\")\n",
    "print(\"xx.ravel(): {}\".format(xx.ravel()))\n",
    "print(\"yy.ravel(): {}\".format(yy.ravel()))"
   ]
  }
 ],
 "metadata": {
  "kernelspec": {
   "display_name": "Python 3",
   "language": "python",
   "name": "python3"
  },
  "language_info": {
   "codemirror_mode": {
    "name": "ipython",
    "version": 3
   },
   "file_extension": ".py",
   "mimetype": "text/x-python",
   "name": "python",
   "nbconvert_exporter": "python",
   "pygments_lexer": "ipython3",
   "version": "3.6.8"
  }
 },
 "nbformat": 4,
 "nbformat_minor": 2
}
