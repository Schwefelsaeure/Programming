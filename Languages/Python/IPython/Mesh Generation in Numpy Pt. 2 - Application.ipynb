{
 "cells": [
  {
   "cell_type": "markdown",
   "metadata": {},
   "source": [
    "# Mesh Generation in Numpy Pt. 2 - Application"
   ]
  },
  {
   "cell_type": "code",
   "execution_count": 2,
   "metadata": {},
   "outputs": [
    {
     "data": {
      "text/plain": [
       "([<matplotlib.axis.YTick at 0x7f16eda8ada0>,\n",
       "  <matplotlib.axis.YTick at 0x7f16eda8a6d8>],\n",
       " <a list of 2 Text yticklabel objects>)"
      ]
     },
     "execution_count": 2,
     "metadata": {},
     "output_type": "execute_result"
    },
    {
     "data": {
      "image/png": "[encoded data removed]",
      "text/plain": [
       "<Figure size 432x288 with 1 Axes>"
      ]
     },
     "metadata": {
      "needs_background": "light"
     },
     "output_type": "display_data"
    }
   ],
   "source": [
    "import numpy as np\n",
    "\n",
    "from matplotlib import pyplot as plt\n",
    "from scipy.stats import multivariate_normal\n",
    "\n",
    "def generate_grid(xdim, ydim):\n",
    "    x = np.linspace(*xdim)\n",
    "    y = np.linspace(*ydim)\n",
    "    \n",
    "    xx, yy = np.meshgrid(x, y)\n",
    "    grid = np.c_[xx.ravel(), yy.ravel()]\n",
    "    \n",
    "    return grid\n",
    "\n",
    "def generate_coordinates():\n",
    "    coordinates_as_array = np.array([0.0, 0.0, 50.0, 50.0 , 100.0, 100.0])\n",
    "    coordinates_as_xy_pair = coordinates_as_array.reshape(-1, 2)\n",
    "    \n",
    "    return coordinates_as_xy_pair\n",
    "\n",
    "def evaluate_density_functions_on_grid(grid, coordinates):\n",
    "    normal_distributions_at_given_coordinates = [multivariate_normal(coordinate, cov=10) for coordinate in coordinates]\n",
    "    evaluated_density_functions_on_grid = [distribution.pdf(grid) for distribution in normal_distributions_at_given_coordinates]\n",
    "    \n",
    "    return evaluated_density_functions_on_grid\n",
    "\n",
    "grid_x_resolution = 500\n",
    "grid_y_resolution = 500\n",
    "xdim = (0, 100, grid_x_resolution)\n",
    "ydim = (0, 100, grid_y_resolution)\n",
    "\n",
    "grid = generate_grid(xdim=xdim, ydim=ydim)\n",
    "coordinates = generate_coordinates()\n",
    "evaluated_density_functions_on_grid = evaluate_density_functions_on_grid(grid, coordinates)\n",
    "\n",
    "summed_density_functions = np.sum(np.vstack(evaluated_density_functions_on_grid), axis=0)\n",
    "summed_density_functions = summed_density_functions.reshape(grid_x_resolution, grid_y_resolution)\n",
    "\n",
    "plt.imshow(summed_density_functions, origin=\"lower\", cmap=\"seismic\")\n",
    "plt.xticks([xdim[0], grid_x_resolution], [xdim[0], xdim[1]])\n",
    "plt.yticks([ydim[0], grid_y_resolution], [ydim[0], ydim[1]])"
   ]
  }
 ],
 "metadata": {
  "kernelspec": {
   "display_name": "Python 3",
   "language": "python",
   "name": "python3"
  },
  "language_info": {
   "codemirror_mode": {
    "name": "ipython",
    "version": 3
   },
   "file_extension": ".py",
   "mimetype": "text/x-python",
   "name": "python",
   "nbconvert_exporter": "python",
   "pygments_lexer": "ipython3",
   "version": "3.6.8"
  }
 },
 "nbformat": 4,
 "nbformat_minor": 2
}
